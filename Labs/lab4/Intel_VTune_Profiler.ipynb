{
 "cells": [
  {
   "cell_type": "markdown",
   "metadata": {},
   "source": [
    "# VTune™ Profiling on Intel® DevCloud\n",
    "#### Based on Intel training module, revised for EECE.4510/5510 Labs\n",
    "##### by Prof. Yan Luo. June 12, 2023."
   ]
  },
  {
   "cell_type": "markdown",
   "metadata": {},
   "source": [
    "##### Sections\n",
    "- [What is VTune™ Profiler?](#What-is-VTune™-Profiler?)\n",
    "- [VTune™ Command-line Options](#VTune™-Command-line-Options)\n",
    "- _Lab Exercise:_ [VTune™ gpu_hotspots profiling with iso3dfd sample](#Lab-Exercise:-VTune™-Profiling)"
   ]
  },
  {
   "cell_type": "markdown",
   "metadata": {},
   "source": [
    "## Learning Objectives"
   ]
  },
  {
   "cell_type": "markdown",
   "metadata": {},
   "source": [
    "- Profile a SYCL application using the VTune™ profiling tool on Intel® DevCloud\n",
    "- Understand the basics of VTune™ command line options for collecting data and generating reports"
   ]
  },
  {
   "cell_type": "markdown",
   "metadata": {},
   "source": [
    "## What is VTune™ Profiler?"
   ]
  },
  {
   "cell_type": "markdown",
   "metadata": {},
   "source": [
    "VTune™ allows SYCL Profiling capabilities so you can tune for CPU, GPU, and FPGA.\n",
    "\n",
    "![VTune UI](vtuneui.png)\n",
    "\n",
    "__Analyze Data Parallell C++__ :\n",
    "See the lines of DPC++ that consume the most time\n",
    "\n",
    "__Tune for CPU, GPU & FPGA__ :\n",
    "Optimize for any supported hardware accelerator\n",
    "\n",
    "__Optimize Offload__ :\n",
    "Tune OpenMP offload performance\n",
    "\n",
    "__Wide Range of Performance Profiles__ :\n",
    "CPU, GPU, FPGA, threading, memory, cache, storage…\n",
    "\n",
    "__Most Popular Languages__ :\n",
    "SYCL, C, C++, Fortran*, Python*, Go*, Java*, or a mix\n"
   ]
  },
  {
   "cell_type": "markdown",
   "metadata": {},
   "source": [
    "## VTune™ Command-line Options"
   ]
  },
  {
   "cell_type": "markdown",
   "metadata": {},
   "source": [
    "### Run and collect VTune™ data\n",
    "```vtune -collect gpu_hotspots -result-dir vtune_data a.out```\n",
    "\n",
    "Various types of profiling data can be collected like `hotspots`, `memory-consumption`, `memory-access`, `threading`…\n",
    "\n",
    "Use the command line help to find out more:\n",
    "\n",
    "```vtune --help -collect```\n",
    "\n",
    "### Generate html report for collected VTune™ data:\n",
    "```vtune -report summary -result-dir vtune_data -format html -report-output $(pwd)/summary.html```\n",
    "\n",
    "Various types of report can be generated like `summary`, `top-down`, `callstacks`…\n",
    "\n",
    "Use the command line help to find out more:\n",
    "\n",
    "```vtune --help -report```\n"
   ]
  },
  {
   "cell_type": "markdown",
   "metadata": {},
   "source": [
    "## When to use VTune™ Command line"
   ]
  },
  {
   "cell_type": "markdown",
   "metadata": {},
   "source": [
    "VTune™ Command-line is useful when on __Intel® DevCloud__ or you only have __SSH__ access to development system.\n",
    "\n",
    "However, it is recommended to install the __full VTune™ version__ on a local system and use the __UI rich experience__ of VTune Profiling Tool.\n",
    "\n",
    "![VTune UI](vtuneui.png)\n"
   ]
  },
  {
   "cell_type": "markdown",
   "metadata": {},
   "source": [
    "## Lab Exercise: VTune™ Profiling\n",
    "- Build, run, collect VTune™ data and display VTune summary when running on gpu and cpu."
   ]
  },
  {
   "cell_type": "markdown",
   "metadata": {},
   "source": [
    "### Test Application: SYCL implementation of iso3dfd"
   ]
  },
  {
   "cell_type": "markdown",
   "metadata": {},
   "source": [
    "SYCL implementation of iso3dfd will be used to collect VTune™ data and analyze the generated result. Below are source code to iso3dfd application:\n",
    "- [iso3dfd.cpp](src/iso3dfd.cpp)\n",
    "- [iso3dfd_kernels.cpp](src/iso3dfd_kernels.cpp)\n"
   ]
  },
  {
   "cell_type": "markdown",
   "metadata": {},
   "source": [
    "### Build and Run"
   ]
  },
  {
   "cell_type": "code",
   "execution_count": 1,
   "metadata": {},
   "outputs": [
    {
     "name": "stdout",
     "output_type": "stream",
     "text": [
      "Overwriting run_iso3dfd.sh\n"
     ]
    }
   ],
   "source": [
    "%%writefile run_iso3dfd.sh\n",
    "#!/bin/bash\n",
    "source /opt/intel/inteloneapi/setvars.sh > /dev/null 2>&1\n",
    "\n",
    "icpx -fsycl src/iso3dfd.cpp src/utils.cpp src/iso3dfd_kernels.cpp -o iso3dfd\n",
    "\n",
    "#TODO: EECE.5510\n",
    "#TODO: uncomment the following to use shared local memory in the kernel function\n",
    "#TODO: build and then run vtune again to observe the difference in performance profiling results\n",
    "icpx -fsycl -DUSE_SHARED src/iso3dfd.cpp src/utils.cpp src/iso3dfd_kernels.cpp -o iso3dfd\n",
    "\n",
    "./iso3dfd 256 256 256 8 8 8 20 sycl gpu\n",
    "\n"
   ]
  },
  {
   "cell_type": "markdown",
   "metadata": {},
   "source": [
    "**STEP 1:** Build and Run the iso3dfd app by running ▶ the command below:"
   ]
  },
  {
   "cell_type": "code",
   "execution_count": 2,
   "metadata": {},
   "outputs": [
    {
     "name": "stdout",
     "output_type": "stream",
     "text": [
      "Job has been submitted to Intel(R) DevCloud and will execute soon.\n",
      "\n",
      "Job ID                    Name             User            Time Use S Queue\n",
      "------------------------- ---------------- --------------- -------- - -----\n",
      "2324811.v-qsvr-1           ...ub-singleuser u193166         00:01:27 R jupyterhub     \n",
      "2324916.v-qsvr-1           run_iso3dfd.sh   u193166                0 Q batch          \n",
      "\n",
      "Waiting for Output ██████████████████████████████████████████████ Done⬇\n",
      "\n",
      "########################################################################\n",
      "#      Date:           Wed 21 Jun 2023 02:19:17 PM PDT\n",
      "#    Job ID:           2324916.v-qsvr-1.aidevcloud\n",
      "#      User:           u193166\n",
      "# Resources:           cput=75:00:00,neednodes=1:gpu:ppn=2,nodes=1:gpu:ppn=2,walltime=06:00:00\n",
      "########################################################################\n",
      "\n",
      "Grid Sizes: 256 256 256\n",
      "Memory Usage: 230 MB\n",
      " ***** Running SYCL variant *****\n",
      "Initializing ... \n",
      " Running on Intel(R) UHD Graphics [0x9a60]\n",
      " The Device Max Work Group Size is : 512\n",
      " The Device Max EUCount is : 32\n",
      " The blockSize x is : 8\n",
      " The blockSize y is : 8\n",
      " Using Shared Local Memory Kernel : \n",
      "SYCL time: 578 ms\n",
      "--------------------------------------\n",
      "time         : 0.578 secs\n",
      "throughput   : 580.526 Mpts/s\n",
      "flops        : 35.4121 GFlops\n",
      "bytes        : 6.96632 GBytes/s\n",
      "\n",
      "--------------------------------------\n",
      "\n",
      "--------------------------------------\n",
      "\n",
      "########################################################################\n",
      "# End of output for job 2324916.v-qsvr-1.aidevcloud\n",
      "# Date: Wed 21 Jun 2023 02:19:49 PM PDT\n",
      "########################################################################\n",
      "\n",
      "In file included from src/iso3dfd.cpp:35:\n",
      "src/../include/device_selector.hpp:23:39: warning: 'device_selector' is deprecated: Use SYCL 2020 callable device selectors instead. [-Wdeprecated-declarations]\n",
      "class MyDeviceSelector : public sycl::device_selector {\n",
      "                                      ^\n",
      "/glob/development-tools/versions/oneapi/2023.1.2/oneapi/compiler/2023.1.0/linux/bin-llvm/../include/sycl/device_selector.hpp:34:21: note: 'device_selector' has been explicitly marked deprecated here\n",
      "class __SYCL_EXPORT __SYCL2020_DEPRECATED(\n",
      "                    ^\n",
      "/glob/development-tools/versions/oneapi/2023.1.2/oneapi/compiler/2023.1.0/linux/bin-llvm/../include/sycl/detail/defines_elementary.hpp:48:40: note: expanded from macro '__SYCL2020_DEPRECATED'\n",
      "#define __SYCL2020_DEPRECATED(message) __SYCL_DEPRECATED(message)\n",
      "                                       ^\n",
      "/glob/development-tools/versions/oneapi/2023.1.2/oneapi/compiler/2023.1.0/linux/bin-llvm/../include/sycl/detail/defines_elementary.hpp:39:38: note: expanded from macro '__SYCL_DEPRECATED'\n",
      "#define __SYCL_DEPRECATED(message) [[deprecated(message)]]\n",
      "                                     ^\n",
      "src/iso3dfd.cpp:321:11: warning: 'queue' is deprecated: SYCL 1.2.1 device selectors are deprecated. Please use SYCL 2020 device selectors instead. [-Wdeprecated-declarations]\n",
      "    queue q(device_sel, exception_handler);\n",
      "          ^\n",
      "/glob/development-tools/versions/oneapi/2023.1.2/oneapi/compiler/2023.1.0/linux/bin-llvm/../include/sycl/queue.hpp:182:3: note: 'queue' has been explicitly marked deprecated here\n",
      "  __SYCL2020_DEPRECATED(\"SYCL 1.2.1 device selectors are deprecated. Please \"\n",
      "  ^\n",
      "/glob/development-tools/versions/oneapi/2023.1.2/oneapi/compiler/2023.1.0/linux/bin-llvm/../include/sycl/detail/defines_elementary.hpp:48:40: note: expanded from macro '__SYCL2020_DEPRECATED'\n",
      "#define __SYCL2020_DEPRECATED(message) __SYCL_DEPRECATED(message)\n",
      "                                       ^\n",
      "/glob/development-tools/versions/oneapi/2023.1.2/oneapi/compiler/2023.1.0/linux/bin-llvm/../include/sycl/detail/defines_elementary.hpp:39:38: note: expanded from macro '__SYCL_DEPRECATED'\n",
      "#define __SYCL_DEPRECATED(message) [[deprecated(message)]]\n",
      "                                     ^\n",
      "2 warnings generated.\n",
      "In file included from src/iso3dfd.cpp:35:\n",
      "src/../include/device_selector.hpp:23:39: warning: 'device_selector' is deprecated: Use SYCL 2020 callable device selectors instead. [-Wdeprecated-declarations]\n",
      "class MyDeviceSelector : public sycl::device_selector {\n",
      "                                      ^\n",
      "/glob/development-tools/versions/oneapi/2023.1.2/oneapi/compiler/2023.1.0/linux/bin-llvm/../include/sycl/device_selector.hpp:34:21: note: 'device_selector' has been explicitly marked deprecated here\n",
      "class __SYCL_EXPORT __SYCL2020_DEPRECATED(\n",
      "                    ^\n",
      "/glob/development-tools/versions/oneapi/2023.1.2/oneapi/compiler/2023.1.0/linux/bin-llvm/../include/sycl/detail/defines_elementary.hpp:48:40: note: expanded from macro '__SYCL2020_DEPRECATED'\n",
      "#define __SYCL2020_DEPRECATED(message) __SYCL_DEPRECATED(message)\n",
      "                                       ^\n",
      "/glob/development-tools/versions/oneapi/2023.1.2/oneapi/compiler/2023.1.0/linux/bin-llvm/../include/sycl/detail/defines_elementary.hpp:39:38: note: expanded from macro '__SYCL_DEPRECATED'\n",
      "#define __SYCL_DEPRECATED(message) [[deprecated(message)]]\n",
      "                                     ^\n",
      "src/iso3dfd.cpp:321:11: warning: 'queue' is deprecated: SYCL 1.2.1 device selectors are deprecated. Please use SYCL 2020 device selectors instead. [-Wdeprecated-declarations]\n",
      "    queue q(device_sel, exception_handler);\n",
      "          ^\n",
      "/glob/development-tools/versions/oneapi/2023.1.2/oneapi/compiler/2023.1.0/linux/bin-llvm/../include/sycl/queue.hpp:182:3: note: 'queue' has been explicitly marked deprecated here\n",
      "  __SYCL2020_DEPRECATED(\"SYCL 1.2.1 device selectors are deprecated. Please \"\n",
      "  ^\n",
      "/glob/development-tools/versions/oneapi/2023.1.2/oneapi/compiler/2023.1.0/linux/bin-llvm/../include/sycl/detail/defines_elementary.hpp:48:40: note: expanded from macro '__SYCL2020_DEPRECATED'\n",
      "#define __SYCL2020_DEPRECATED(message) __SYCL_DEPRECATED(message)\n",
      "                                       ^\n",
      "/glob/development-tools/versions/oneapi/2023.1.2/oneapi/compiler/2023.1.0/linux/bin-llvm/../include/sycl/detail/defines_elementary.hpp:39:38: note: expanded from macro '__SYCL_DEPRECATED'\n",
      "#define __SYCL_DEPRECATED(message) [[deprecated(message)]]\n",
      "                                     ^\n",
      "2 warnings generated.\n",
      "In file included from src/iso3dfd.cpp:35:\n",
      "src/../include/device_selector.hpp:23:39: warning: 'device_selector' is deprecated: Use SYCL 2020 callable device selectors instead. [-Wdeprecated-declarations]\n",
      "class MyDeviceSelector : public sycl::device_selector {\n",
      "                                      ^\n",
      "/glob/development-tools/versions/oneapi/2023.1.2/oneapi/compiler/2023.1.0/linux/bin-llvm/../include/sycl/device_selector.hpp:34:21: note: 'device_selector' has been explicitly marked deprecated here\n",
      "class __SYCL_EXPORT __SYCL2020_DEPRECATED(\n",
      "                    ^\n",
      "/glob/development-tools/versions/oneapi/2023.1.2/oneapi/compiler/2023.1.0/linux/bin-llvm/../include/sycl/detail/defines_elementary.hpp:48:40: note: expanded from macro '__SYCL2020_DEPRECATED'\n",
      "#define __SYCL2020_DEPRECATED(message) __SYCL_DEPRECATED(message)\n",
      "                                       ^\n",
      "/glob/development-tools/versions/oneapi/2023.1.2/oneapi/compiler/2023.1.0/linux/bin-llvm/../include/sycl/detail/defines_elementary.hpp:39:38: note: expanded from macro '__SYCL_DEPRECATED'\n",
      "#define __SYCL_DEPRECATED(message) [[deprecated(message)]]\n",
      "                                     ^\n",
      "src/iso3dfd.cpp:321:11: warning: 'queue' is deprecated: SYCL 1.2.1 device selectors are deprecated. Please use SYCL 2020 device selectors instead. [-Wdeprecated-declarations]\n",
      "    queue q(device_sel, exception_handler);\n",
      "          ^\n",
      "/glob/development-tools/versions/oneapi/2023.1.2/oneapi/compiler/2023.1.0/linux/bin-llvm/../include/sycl/queue.hpp:182:3: note: 'queue' has been explicitly marked deprecated here\n",
      "  __SYCL2020_DEPRECATED(\"SYCL 1.2.1 device selectors are deprecated. Please \"\n",
      "  ^\n",
      "/glob/development-tools/versions/oneapi/2023.1.2/oneapi/compiler/2023.1.0/linux/bin-llvm/../include/sycl/detail/defines_elementary.hpp:48:40: note: expanded from macro '__SYCL2020_DEPRECATED'\n",
      "#define __SYCL2020_DEPRECATED(message) __SYCL_DEPRECATED(message)\n",
      "                                       ^\n",
      "/glob/development-tools/versions/oneapi/2023.1.2/oneapi/compiler/2023.1.0/linux/bin-llvm/../include/sycl/detail/defines_elementary.hpp:39:38: note: expanded from macro '__SYCL_DEPRECATED'\n",
      "#define __SYCL_DEPRECATED(message) [[deprecated(message)]]\n",
      "                                     ^\n",
      "2 warnings generated.\n",
      "src/iso3dfd_kernels.cpp:365:70: warning: 'local' is deprecated: use `local_accessor` instead [-Wdeprecated-declarations]\n",
      "        accessor<float, 1, access::mode::read_write, access::target::local> tab(\n",
      "                                                                     ^\n",
      "/glob/development-tools/versions/oneapi/2023.1.2/oneapi/compiler/2023.1.0/linux/bin-llvm/../include/sycl/access/access.hpp:21:9: note: 'local' has been explicitly marked deprecated here\n",
      "  local __SYCL2020_DEPRECATED(\"use `local_accessor` instead\") = 2016,\n",
      "        ^\n",
      "/glob/development-tools/versions/oneapi/2023.1.2/oneapi/compiler/2023.1.0/linux/bin-llvm/../include/sycl/detail/defines_elementary.hpp:48:40: note: expanded from macro '__SYCL2020_DEPRECATED'\n",
      "#define __SYCL2020_DEPRECATED(message) __SYCL_DEPRECATED(message)\n",
      "                                       ^\n",
      "/glob/development-tools/versions/oneapi/2023.1.2/oneapi/compiler/2023.1.0/linux/bin-llvm/../include/sycl/detail/defines_elementary.hpp:39:38: note: expanded from macro '__SYCL_DEPRECATED'\n",
      "#define __SYCL_DEPRECATED(message) [[deprecated(message)]]\n",
      "                                     ^\n",
      "1 warning generated.\n",
      "In file included from src/iso3dfd.cpp:35:\n",
      "src/../include/device_selector.hpp:23:39: warning: 'device_selector' is deprecated: Use SYCL 2020 callable device selectors instead. [-Wdeprecated-declarations]\n",
      "class MyDeviceSelector : public sycl::device_selector {\n",
      "                                      ^\n",
      "/glob/development-tools/versions/oneapi/2023.1.2/oneapi/compiler/2023.1.0/linux/bin-llvm/../include/sycl/device_selector.hpp:34:21: note: 'device_selector' has been explicitly marked deprecated here\n",
      "class __SYCL_EXPORT __SYCL2020_DEPRECATED(\n",
      "                    ^\n",
      "/glob/development-tools/versions/oneapi/2023.1.2/oneapi/compiler/2023.1.0/linux/bin-llvm/../include/sycl/detail/defines_elementary.hpp:48:40: note: expanded from macro '__SYCL2020_DEPRECATED'\n",
      "#define __SYCL2020_DEPRECATED(message) __SYCL_DEPRECATED(message)\n",
      "                                       ^\n",
      "/glob/development-tools/versions/oneapi/2023.1.2/oneapi/compiler/2023.1.0/linux/bin-llvm/../include/sycl/detail/defines_elementary.hpp:39:38: note: expanded from macro '__SYCL_DEPRECATED'\n",
      "#define __SYCL_DEPRECATED(message) [[deprecated(message)]]\n",
      "                                     ^\n",
      "src/iso3dfd.cpp:321:11: warning: 'queue' is deprecated: SYCL 1.2.1 device selectors are deprecated. Please use SYCL 2020 device selectors instead. [-Wdeprecated-declarations]\n",
      "    queue q(device_sel, exception_handler);\n",
      "          ^\n",
      "/glob/development-tools/versions/oneapi/2023.1.2/oneapi/compiler/2023.1.0/linux/bin-llvm/../include/sycl/queue.hpp:182:3: note: 'queue' has been explicitly marked deprecated here\n",
      "  __SYCL2020_DEPRECATED(\"SYCL 1.2.1 device selectors are deprecated. Please \"\n",
      "  ^\n",
      "/glob/development-tools/versions/oneapi/2023.1.2/oneapi/compiler/2023.1.0/linux/bin-llvm/../include/sycl/detail/defines_elementary.hpp:48:40: note: expanded from macro '__SYCL2020_DEPRECATED'\n",
      "#define __SYCL2020_DEPRECATED(message) __SYCL_DEPRECATED(message)\n",
      "                                       ^\n",
      "/glob/development-tools/versions/oneapi/2023.1.2/oneapi/compiler/2023.1.0/linux/bin-llvm/../include/sycl/detail/defines_elementary.hpp:39:38: note: expanded from macro '__SYCL_DEPRECATED'\n",
      "#define __SYCL_DEPRECATED(message) [[deprecated(message)]]\n",
      "                                     ^\n",
      "2 warnings generated.\n",
      "src/iso3dfd_kernels.cpp:365:70: warning: 'local' is deprecated: use `local_accessor` instead [-Wdeprecated-declarations]\n",
      "        accessor<float, 1, access::mode::read_write, access::target::local> tab(\n",
      "                                                                     ^\n",
      "/glob/development-tools/versions/oneapi/2023.1.2/oneapi/compiler/2023.1.0/linux/bin-llvm/../include/sycl/access/access.hpp:21:9: note: 'local' has been explicitly marked deprecated here\n",
      "  local __SYCL2020_DEPRECATED(\"use `local_accessor` instead\") = 2016,\n",
      "        ^\n",
      "/glob/development-tools/versions/oneapi/2023.1.2/oneapi/compiler/2023.1.0/linux/bin-llvm/../include/sycl/detail/defines_elementary.hpp:48:40: note: expanded from macro '__SYCL2020_DEPRECATED'\n",
      "#define __SYCL2020_DEPRECATED(message) __SYCL_DEPRECATED(message)\n",
      "                                       ^\n",
      "/glob/development-tools/versions/oneapi/2023.1.2/oneapi/compiler/2023.1.0/linux/bin-llvm/../include/sycl/detail/defines_elementary.hpp:39:38: note: expanded from macro '__SYCL_DEPRECATED'\n",
      "#define __SYCL_DEPRECATED(message) [[deprecated(message)]]\n",
      "                                     ^\n",
      "1 warning generated.\n",
      "Job Completed in 46 seconds.\n"
     ]
    }
   ],
   "source": [
    "! chmod 755 q; chmod 755 run_iso3dfd.sh; if [ -x \"$(command -v qsub)\" ]; then ./q run_iso3dfd.sh; else ./run_iso3dfd.sh; fi"
   ]
  },
  {
   "cell_type": "markdown",
   "metadata": {},
   "source": [
    "## Analyze performance with VTune™"
   ]
  },
  {
   "cell_type": "markdown",
   "metadata": {},
   "source": [
    "Use VTune™ command line to analyze performace on GPU vs CPU and display the summary"
   ]
  },
  {
   "cell_type": "markdown",
   "metadata": {},
   "source": [
    "### VTune™ Command Line for collecting and reporting"
   ]
  },
  {
   "cell_type": "code",
   "execution_count": 3,
   "metadata": {},
   "outputs": [
    {
     "name": "stdout",
     "output_type": "stream",
     "text": [
      "Overwriting vtune_collect.sh\n"
     ]
    }
   ],
   "source": [
    "%%writefile vtune_collect.sh\n",
    "#!/bin/bash\n",
    "source /opt/intel/inteloneapi/setvars.sh\n",
    "/bin/echo \"##\" $(whoami) is compiling SYCL_Essentials Module6 -- Intel Vtune profiler - 1 of 1 Vtune_Profiler\n",
    "#vtune\n",
    "#type=hotspots\n",
    "#type=memory-consumption\n",
    "#type=uarch-exploration\n",
    "#type=memory-access\n",
    "#type=threading\n",
    "#type=hpc-performance\n",
    "#type=system-overview\n",
    "#type=graphics-rendering\n",
    "#type=io\n",
    "#type=fpga-interaction\n",
    "#type=gpu-offload\n",
    "type=gpu-hotspots\n",
    "#type=throttling\n",
    "#type=platform-profiler\n",
    "#type=cpugpu-concurrency\n",
    "#type=tsx-exploration\n",
    "#type=tsx-hotspots\n",
    "#type=sgx-hotspots\n",
    "\n",
    "rm -r vtune_data\n",
    "\n",
    "# added by yluo\n",
    "echo \"stop prior collection if any\"\n",
    "vtune -command stop\n",
    "\n",
    "echo \"Vtune Collect $type\"\n",
    "vtune -collect $type -result-dir vtune_data $(pwd)/iso3dfd 256 256 256 8 8 8 20 sycl gpu\n",
    "\n",
    "echo \"Vtune Summary Report\"\n",
    "#vtune -report summary -result-dir vtune_data -format html -report-output $(pwd)/summary.html\n",
    "vtune -report summary -result-dir vtune_data -format html -report-output ./summary.html\n"
   ]
  },
  {
   "cell_type": "markdown",
   "metadata": {},
   "source": [
    "### Run VTune™ to Collect Hotspots and Generate Report"
   ]
  },
  {
   "cell_type": "markdown",
   "metadata": {},
   "source": [
    "**STEP 2:** Collect VTune™ data and generate report by running ▶ the command below:"
   ]
  },
  {
   "cell_type": "code",
   "execution_count": null,
   "metadata": {},
   "outputs": [
    {
     "name": "stdout",
     "output_type": "stream",
     "text": [
      "Job has been submitted to Intel(R) DevCloud and will execute soon.\n",
      "\n",
      "Job ID                    Name             User            Time Use S Queue\n",
      "------------------------- ---------------- --------------- -------- - -----\n",
      "2324811.v-qsvr-1           ...ub-singleuser u193166         00:01:31 R jupyterhub     \n",
      "2324917.v-qsvr-1           vtune_collect.sh u193166                0 Q batch          \n",
      "\n",
      "Waiting for Output ███████████████████████████████████████████████████"
     ]
    }
   ],
   "source": [
    "! chmod 755 vtune_collect.sh; if [ -x \"$(command -v qsub)\" ]; then ./q vtune_collect.sh; else ./vtune_collect.sh; fi"
   ]
  },
  {
   "cell_type": "markdown",
   "metadata": {},
   "source": [
    "## Display VTune™ Summary"
   ]
  },
  {
   "cell_type": "markdown",
   "metadata": {},
   "source": [
    "Display VTune™ summary report generated in html format"
   ]
  },
  {
   "cell_type": "markdown",
   "metadata": {},
   "source": [
    "### Display VTune™ Report for GPU"
   ]
  },
  {
   "cell_type": "markdown",
   "metadata": {},
   "source": [
    "**STEP 3:** Display VTune™ summary report by running ▶ the command below "
   ]
  },
  {
   "cell_type": "code",
   "execution_count": null,
   "metadata": {},
   "outputs": [],
   "source": [
    "from IPython.display import IFrame\n",
    "IFrame(src='summary.html', width=960, height=600)"
   ]
  },
  {
   "cell_type": "markdown",
   "metadata": {},
   "source": [
    "### <font color='red'>Question</font>\n",
    "Change the script in Build and Run to add \"-DUSE_SHARED\" flag such that the kernel function will use local shared memory. Run through the build, run, profile process again. Observe the difference in profiling results. Capture and explain your findings in your report."
   ]
  },
  {
   "cell_type": "markdown",
   "metadata": {},
   "source": [
    "## Summary"
   ]
  },
  {
   "cell_type": "markdown",
   "metadata": {},
   "source": [
    "VTune™ command line is useful for quick analysis of SYCL application to get performance metric and tune applications."
   ]
  }
 ],
 "metadata": {
  "kernelspec": {
   "display_name": "Python 3 (Intel® oneAPI 2023.1)",
   "language": "python",
   "name": "c009-intel_distribution_of_python_3_oneapi-beta05-python"
  },
  "language_info": {
   "codemirror_mode": {
    "name": "ipython",
    "version": 3
   },
   "file_extension": ".py",
   "mimetype": "text/x-python",
   "name": "python",
   "nbconvert_exporter": "python",
   "pygments_lexer": "ipython3",
   "version": "3.9.16"
  },
  "toc": {
   "base_numbering": 1,
   "nav_menu": {},
   "number_sections": true,
   "sideBar": true,
   "skip_h1_title": false,
   "title_cell": "Table of Contents",
   "title_sidebar": "Contents",
   "toc_cell": false,
   "toc_position": {
    "height": "calc(100% - 180px)",
    "left": "10px",
    "top": "150px",
    "width": "310.667px"
   },
   "toc_section_display": true,
   "toc_window_display": true
  }
 },
 "nbformat": 4,
 "nbformat_minor": 4
}
